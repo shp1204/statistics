{
 "cells": [
  {
   "cell_type": "markdown",
   "metadata": {},
   "source": [
    "# 단일 표본 t-검정"
   ]
  },
  {
   "cell_type": "code",
   "execution_count": 2,
   "metadata": {
    "ExecuteTime": {
     "end_time": "2020-05-11T08:49:31.099139Z",
     "start_time": "2020-05-11T08:49:26.782070Z"
    }
   },
   "outputs": [],
   "source": [
    "import numpy as np\n",
    "from scipy import stats"
   ]
  },
  {
   "cell_type": "code",
   "execution_count": 14,
   "metadata": {
    "ExecuteTime": {
     "end_time": "2020-05-11T08:57:56.776529Z",
     "start_time": "2020-05-11T08:57:56.761517Z"
    }
   },
   "outputs": [
    {
     "name": "stdout",
     "output_type": "stream",
     "text": [
      "[188.1217268183162, 176.94121793174963, 177.35914123868272, 174.63515688921916, 184.32703814662338, 168.49230651559859, 188.7240588210824, 176.19396549552448, 181.5951954802855, 178.75314812261294, 187.31053968522488, 169.69929645251173, 178.38791397993245, 178.07972822665792, 185.6688472116772, 174.50054366342985, 179.13785896224783, 175.61070791039313, 180.21106873357797, 182.9140760685791]\n",
      "The T-statistic is 3.435 and the p-value is 0.003\n"
     ]
    }
   ],
   "source": [
    "# 초기값 고정\n",
    "np.random.seed(1)\n",
    "\n",
    "# 평균 = 180, 표준편차는 5로 하는 20개의 랜덤값을 만들자.\n",
    "heights= [180 + np.random.normal(0,5) for _ in range(20)]\n",
    "print(heights)\n",
    "\n",
    "# t-test : stats.ttest_1samp\n",
    "tTestResult= stats.ttest_1samp(heights,175)\n",
    "\n",
    "#print result\n",
    "print(\"The T-statistic is %.3f and the p-value is %.3f\" % tTestResult)"
   ]
  },
  {
   "cell_type": "markdown",
   "metadata": {},
   "source": [
    "# 독립 표본 t-검정"
   ]
  },
  {
   "cell_type": "code",
   "execution_count": 31,
   "metadata": {
    "ExecuteTime": {
     "end_time": "2020-05-11T09:18:15.284541Z",
     "start_time": "2020-05-11T09:18:15.260519Z"
    },
    "scrolled": false
   },
   "outputs": [
    {
     "name": "stdout",
     "output_type": "stream",
     "text": [
      "LeveneResult(F) : 4.158 \n",
      "p-value : 0.048\n",
      "The t-statistic and p-value assuming equal variances is -2.329 and 0.025.\n",
      "The t-statistic and p-value not assuming equal variances is -2.329 and 0.026\n"
     ]
    }
   ],
   "source": [
    "# 초기값 고정\n",
    "np.random.seed(1)\n",
    "\n",
    "# 두 개의 집단을 만들자\n",
    "#group 1 heights : mean 170, standard deviation 5\n",
    "group1Heights= [170 + np.random.normal(0,5) for _ in range(20)]\n",
    "#group 2 heights : mean 180, standard deviation 10\n",
    "group2Heights= [175 + np.random.normal(0,10) for _ in range(20)]\n",
    "\n",
    "# 등분산 검정\n",
    "lresult = stats.levene(group1Heights, group2Heights )\n",
    "print('LeveneResult(F) : %.3f \\np-value : %.3f' % (lresult))\n",
    "\n",
    "# t-test : stats.ttest_ind( two independent sample)\n",
    "# 등분산이 같다고 가정\n",
    "tTestResult= stats.ttest_ind(group1Heights, group2Heights)\n",
    "# 등분산이 같지 않다고 가정\n",
    "tTestResultDiffVar= stats.ttest_ind(group1Heights, group2Heights, equal_var=False)\n",
    "\n",
    "print(\"The t-statistic and p-value assuming equal variances is %.3f and %.3f.\" % tTestResult)\n",
    "print(\"The t-statistic and p-value not assuming equal variances is %.3f and %.3f\" % tTestResultDiffVar)"
   ]
  },
  {
   "cell_type": "markdown",
   "metadata": {},
   "source": [
    "# 대응 표본 t-검정"
   ]
  },
  {
   "cell_type": "code",
   "execution_count": 32,
   "metadata": {
    "ExecuteTime": {
     "end_time": "2020-05-11T09:30:58.474939Z",
     "start_time": "2020-05-11T09:30:58.459928Z"
    }
   },
   "outputs": [
    {
     "name": "stdout",
     "output_type": "stream",
     "text": [
      "The T-statistic is 2.915 and the p-value is 0.009\n"
     ]
    }
   ],
   "source": [
    " # 초기값 고정\n",
    "np.random.seed(1)\n",
    " \n",
    "# 약물 복용 전 : 평균 60, 표준 편차 5\n",
    "beforeWeights= [60 + np.random.normal(0,5) for _ in range(20)]\n",
    "# 약물 복용 후 : 기존 몸무게 * 0.99( 표준편차 0.02 )배\n",
    "afterWeights= [w * np.random.normal(0.99,0.02) for w in beforeWeights]\n",
    " \n",
    "# t-test : stats.ttest_rel\n",
    "tTestResult= stats.ttest_rel(beforeWeights, afterWeights)\n",
    " \n",
    "print(\"The T-statistic is %.3f and the p-value is %.3f\" % tTestResult)"
   ]
  }
 ],
 "metadata": {
  "kernelspec": {
   "display_name": "Python [conda env:cpu_env] *",
   "language": "python",
   "name": "conda-env-cpu_env-py"
  },
  "language_info": {
   "codemirror_mode": {
    "name": "ipython",
    "version": 3
   },
   "file_extension": ".py",
   "mimetype": "text/x-python",
   "name": "python",
   "nbconvert_exporter": "python",
   "pygments_lexer": "ipython3",
   "version": "3.6.9"
  },
  "toc": {
   "base_numbering": 1,
   "nav_menu": {},
   "number_sections": true,
   "sideBar": true,
   "skip_h1_title": false,
   "title_cell": "Table of Contents",
   "title_sidebar": "Contents",
   "toc_cell": false,
   "toc_position": {},
   "toc_section_display": true,
   "toc_window_display": false
  },
  "varInspector": {
   "cols": {
    "lenName": 16,
    "lenType": 16,
    "lenVar": 40
   },
   "kernels_config": {
    "python": {
     "delete_cmd_postfix": "",
     "delete_cmd_prefix": "del ",
     "library": "var_list.py",
     "varRefreshCmd": "print(var_dic_list())"
    },
    "r": {
     "delete_cmd_postfix": ") ",
     "delete_cmd_prefix": "rm(",
     "library": "var_list.r",
     "varRefreshCmd": "cat(var_dic_list()) "
    }
   },
   "types_to_exclude": [
    "module",
    "function",
    "builtin_function_or_method",
    "instance",
    "_Feature"
   ],
   "window_display": false
  }
 },
 "nbformat": 4,
 "nbformat_minor": 2
}
